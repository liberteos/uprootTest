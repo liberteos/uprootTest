{
 "cells": [
  {
   "cell_type": "code",
   "execution_count": 1,
   "metadata": {},
   "outputs": [
    {
     "name": "stdout",
     "output_type": "stream",
     "text": [
      "Welcome to JupyROOT 6.14/04\n"
     ]
    }
   ],
   "source": [
    "import numpy as np\n",
    "import matplotlib.pyplot as plt\n",
    "import uproot, ROOT"
   ]
  },
  {
   "cell_type": "code",
   "execution_count": 2,
   "metadata": {},
   "outputs": [
    {
     "data": {
      "text/plain": [
       "'\\ninstall the the package:\\n1. conda install uproot\\n2. pip install uproot\\n\\nuproot tutorial:\\nhttps://masonproffitt.github.io/uproot-tutorial/\\n'"
      ]
     },
     "execution_count": 2,
     "metadata": {},
     "output_type": "execute_result"
    }
   ],
   "source": [
    "'''\n",
    "install the the package:\n",
    "1. conda install uproot\n",
    "2. pip install uproot\n",
    "\n",
    "uproot tutorial:\n",
    "https://masonproffitt.github.io/uproot-tutorial/\n",
    "'''"
   ]
  },
  {
   "cell_type": "code",
   "execution_count": 21,
   "metadata": {},
   "outputs": [
    {
     "name": "stdout",
     "output_type": "stream",
     "text": [
      "[-0.8044583   0.32093155 -0.02548288 ... -0.06434491  0.50570314\n",
      " -1.63094421]\n"
     ]
    }
   ],
   "source": [
    "# generate nevt numpy arrays with gaussian distribution\n",
    "nevt = 10000\n",
    "np.random.seed(1000)\n",
    "npXval = np.random.normal(size=nevt, loc=0.0)\n",
    "npYval = np.random.normal(size=nevt, loc=0.0)\n",
    "npZval = np.sqrt(npXval**2 +  npYval**2)\n",
    "print(npXval)\n"
   ]
  },
  {
   "cell_type": "code",
   "execution_count": 22,
   "metadata": {},
   "outputs": [
    {
     "data": {
      "image/png": "[encoded data removed]",
      "text/plain": [
       "<Figure size 1296x288 with 3 Axes>"
      ]
     },
     "metadata": {
      "needs_background": "light"
     },
     "output_type": "display_data"
    }
   ],
   "source": [
    "fig, axs = plt.subplots(1, 3, figsize=(18, 4))\n",
    "axs[0].hist(npXval, bins=50)\n",
    "axs[1].hist(npYval, bins=50)\n",
    "axs[2].hist(npZval, bins=50)\n",
    "plt.show()"
   ]
  },
  {
   "cell_type": "code",
   "execution_count": 23,
   "metadata": {},
   "outputs": [],
   "source": [
    "# create a test root file\n",
    "tfile = ROOT.TFile(\"testFile_rootPython.root\", \"RECREATE\")\n",
    "\n",
    "# create a tree to fill\n",
    "tr = ROOT.TTree(\"testTree\", \"test tree\")\n",
    "xval = np.empty((1), dtype=\"float32\")\n",
    "yval = np.empty((1), dtype=\"float32\")\n",
    "zval = np.empty((1), dtype=\"float32\")\n",
    "tr.Branch(\"xval\", xval, \"xval/F\")\n",
    "tr.Branch(\"yval\", yval, \"yval/F\")\n",
    "tr.Branch(\"zval\", zval, \"zval/F\")\n",
    "\n",
    "for ievt in range(nevt):\n",
    "    xval[0] = npXval[ievt]\n",
    "    yval[0] = npYval[ievt]\n",
    "    zval[0] = npZval[ievt]\n",
    "    tr.Fill()\n",
    "    \n",
    "tfile.Write()\n",
    "tfile.Close()"
   ]
  },
  {
   "cell_type": "code",
   "execution_count": null,
   "metadata": {},
   "outputs": [],
   "source": []
  }
 ],
 "metadata": {
  "kernelspec": {
   "display_name": "Python 3",
   "language": "python",
   "name": "python3"
  },
  "language_info": {
   "codemirror_mode": {
    "name": "ipython",
    "version": 3
   },
   "file_extension": ".py",
   "mimetype": "text/x-python",
   "name": "python",
   "nbconvert_exporter": "python",
   "pygments_lexer": "ipython3",
   "version": "3.7.4"
  }
 },
 "nbformat": 4,
 "nbformat_minor": 2
}
