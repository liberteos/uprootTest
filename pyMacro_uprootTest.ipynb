{
 "cells": [
  {
   "cell_type": "code",
   "execution_count": 1,
   "metadata": {},
   "outputs": [],
   "source": [
    "import numpy as np\n",
    "import matplotlib.pyplot as plt\n",
    "import uproot"
   ]
  },
  {
   "cell_type": "code",
   "execution_count": 14,
   "metadata": {},
   "outputs": [
    {
     "name": "stdout",
     "output_type": "stream",
     "text": [
      "<class 'list'> ['xval', 'yval', 'zval']\n",
      "[b'testTree;1']\n",
      "<TTree b'testTree' at 0x00010dae1a50> [b'xval', b'yval', b'zval']\n"
     ]
    }
   ],
   "source": [
    "# prepare the variables in root file\n",
    "bNames = \"\"\"xval,yval,zval\"\"\".split(\",\")\n",
    "print(type(bNames), bNames)\n",
    "\n",
    "\n",
    "rtFile = uproot.open(\"testFile_rootPython.root\")\n",
    "print(rtFile.keys())\n",
    "rtTree = rtFile[\"testTree\"]\n",
    "print(rtTree, rtTree.keys())\n"
   ]
  },
  {
   "cell_type": "code",
   "execution_count": 15,
   "metadata": {},
   "outputs": [
    {
     "name": "stdout",
     "output_type": "stream",
     "text": [
      "{b'xval': array([-0.8044583 ,  0.32093155, -0.02548288, ..., -0.06434491,\n",
      "        0.50570315, -1.6309443 ], dtype=float32), b'yval': array([ 0.9369363 ,  1.7994204 , -1.1131816 , ...,  0.53313774,\n",
      "        3.6665368 , -1.2286893 ], dtype=float32), b'zval': array([1.23491  , 1.8278158, 1.1134732, ..., 0.5370066, 3.7012467,\n",
      "       2.0419736], dtype=float32)} <class 'dict'>\n"
     ]
    }
   ],
   "source": [
    "rtData = rtTree.arrays(bNames)\n",
    "print(rtData, type(rtData))"
   ]
  },
  {
   "cell_type": "code",
   "execution_count": 16,
   "metadata": {},
   "outputs": [
    {
     "name": "stdout",
     "output_type": "stream",
     "text": [
      "<class 'list'>\n",
      "[array([-0.8044583 ,  0.32093155, -0.02548288, ..., -0.06434491,\n",
      "        0.50570315, -1.6309443 ], dtype=float32), array([ 0.9369363 ,  1.7994204 , -1.1131816 , ...,  0.53313774,\n",
      "        3.6665368 , -1.2286893 ], dtype=float32), array([1.23491  , 1.8278158, 1.1134732, ..., 0.5370066, 3.7012467,\n",
      "       2.0419736], dtype=float32)]\n"
     ]
    }
   ],
   "source": [
    "# convert the root branches to numpy array: 3 x 10000\n",
    "npData = []\n",
    "for brnch in rtData:\n",
    "    npData.append(rtData[brnch])\n",
    "    \n",
    "print(type(npData))\n",
    "print(npData)\n"
   ]
  },
  {
   "cell_type": "code",
   "execution_count": 18,
   "metadata": {},
   "outputs": [
    {
     "name": "stdout",
     "output_type": "stream",
     "text": [
      "<class 'numpy.ndarray'> (3, 10000)\n",
      "[[-0.8044583   0.32093155 -0.02548288 ... -0.06434491  0.50570315\n",
      "  -1.6309443 ]\n",
      " [ 0.9369363   1.7994204  -1.1131816  ...  0.53313774  3.6665368\n",
      "  -1.2286893 ]\n",
      " [ 1.23491     1.8278158   1.1134732  ...  0.5370066   3.7012467\n",
      "   2.0419736 ]]\n",
      "<class 'numpy.ndarray'> (10000, 3)\n",
      "[[-0.8044583   0.9369363   1.23491   ]\n",
      " [ 0.32093155  1.7994204   1.8278158 ]\n",
      " [-0.02548288 -1.1131816   1.1134732 ]\n",
      " ...\n",
      " [-0.06434491  0.53313774  0.5370066 ]\n",
      " [ 0.50570315  3.6665368   3.7012467 ]\n",
      " [-1.6309443  -1.2286893   2.0419736 ]]\n"
     ]
    }
   ],
   "source": [
    "npData = np.array(npData)\n",
    "print(type(npData), npData.shape)\n",
    "print(npData)\n",
    "\n",
    "npData = npData.T\n",
    "print(type(npData), npData.shape)\n",
    "print(npData)"
   ]
  },
  {
   "cell_type": "code",
   "execution_count": 25,
   "metadata": {},
   "outputs": [
    {
     "data": {
      "image/png": "[encoded data removed]",
      "text/plain": [
       "<Figure size 1296x288 with 3 Axes>"
      ]
     },
     "metadata": {
      "needs_background": "light"
     },
     "output_type": "display_data"
    }
   ],
   "source": [
    "fig, axs = plt.subplots(1, 3, figsize=(18, 4))\n",
    "axs[0].set_xlabel(\"X Gaussian Distribution\")\n",
    "axs[0].set_ylabel(\"# Event\")\n",
    "axs[1].set_xlabel(\"Y Gaussian Distribution\")\n",
    "axs[1].set_ylabel(\"# Event\")\n",
    "axs[2].set_xlabel(\"Z Gaussian Distribution\")\n",
    "axs[2].set_ylabel(\"# Event\")\n",
    "axs[0].hist(npData[:,0], bins=50)\n",
    "axs[1].hist(npData[:,1], bins=50)\n",
    "axs[2].hist(npData[:,2], bins=50)\n",
    "plt.show()"
   ]
  },
  {
   "cell_type": "code",
   "execution_count": 31,
   "metadata": {},
   "outputs": [
    {
     "name": "stdout",
     "output_type": "stream",
     "text": [
      "X distribution, mean: -0.0119, deviation: 1.01\n",
      "Y distribution, mean: -0.0020, deviation: 1.00\n",
      "Z distribution, mean:  1.2608, deviation: 0.66\n"
     ]
    }
   ],
   "source": [
    "xmean, xstd = np.mean(npData[:,0]), np.std(npData[:, 0])\n",
    "ymean, ystd = np.mean(npData[:,1]), np.std(npData[:, 1])\n",
    "zmean, zstd = np.mean(npData[:,2]), np.std(npData[:, 2])\n",
    "print(\"X distribution, mean: %7.4f, deviation: %.2f\"%(xmean, xstd))\n",
    "print(\"Y distribution, mean: %7.4f, deviation: %.2f\"%(ymean, ystd))\n",
    "print(\"Z distribution, mean: %7.4f, deviation: %.2f\"%(zmean, zstd))"
   ]
  },
  {
   "cell_type": "code",
   "execution_count": null,
   "metadata": {},
   "outputs": [],
   "source": []
  }
 ],
 "metadata": {
  "kernelspec": {
   "display_name": "Python 3",
   "language": "python",
   "name": "python3"
  },
  "language_info": {
   "codemirror_mode": {
    "name": "ipython",
    "version": 3
   },
   "file_extension": ".py",
   "mimetype": "text/x-python",
   "name": "python",
   "nbconvert_exporter": "python",
   "pygments_lexer": "ipython3",
   "version": "3.7.4"
  }
 },
 "nbformat": 4,
 "nbformat_minor": 2
}
